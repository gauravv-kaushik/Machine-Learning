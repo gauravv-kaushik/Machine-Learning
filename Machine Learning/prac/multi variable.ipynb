{
 "cells": [
  {
   "cell_type": "code",
   "execution_count": 2,
   "id": "54be13e5",
   "metadata": {},
   "outputs": [],
   "source": [
    "import numpy as np \n",
    "import pandas as pd\n",
    "import matplotlib.pyplot as plt"
   ]
  },
  {
   "cell_type": "code",
   "execution_count": 3,
   "id": "68c229b6",
   "metadata": {},
   "outputs": [
    {
     "data": {
      "text/plain": [
       "array([[ 0.73443515],\n",
       "       [-0.43234178],\n",
       "       [-0.51534011],\n",
       "       [ 0.76952125],\n",
       "       [ 0.46052159],\n",
       "       [ 0.44321547],\n",
       "       [-1.57310969],\n",
       "       [-1.11252734],\n",
       "       [ 1.42156219],\n",
       "       [ 0.76546891],\n",
       "       [ 0.24092796],\n",
       "       [ 1.55336424],\n",
       "       [-1.57957474],\n",
       "       [-1.05049205],\n",
       "       [-0.86709935],\n",
       "       [-0.40849762],\n",
       "       [ 0.15013341],\n",
       "       [-0.13569794],\n",
       "       [ 0.70164571],\n",
       "       [-0.77422162],\n",
       "       [-0.85990613],\n",
       "       [-0.31915367],\n",
       "       [ 0.47708969],\n",
       "       [-0.54410115],\n",
       "       [ 0.37250847],\n",
       "       [ 2.05636685],\n",
       "       [-0.99295082],\n",
       "       [-0.26903717],\n",
       "       [-0.40043695],\n",
       "       [-1.0031815 ],\n",
       "       [ 0.33753257],\n",
       "       [-1.13467005],\n",
       "       [-0.24168792],\n",
       "       [ 0.93884907],\n",
       "       [ 0.67378806],\n",
       "       [-0.12017847],\n",
       "       [ 0.72947702],\n",
       "       [ 1.76225637],\n",
       "       [-3.33444654],\n",
       "       [-1.2841611 ],\n",
       "       [ 0.62050725],\n",
       "       [-0.30532301],\n",
       "       [ 0.46474831],\n",
       "       [ 0.93399747],\n",
       "       [ 0.18375923],\n",
       "       [-0.36276146],\n",
       "       [ 0.38129111],\n",
       "       [-0.20946643],\n",
       "       [ 0.59205624],\n",
       "       [-1.64775931],\n",
       "       [ 1.17588056],\n",
       "       [ 1.0452408 ],\n",
       "       [ 0.73160094],\n",
       "       [-0.83548588],\n",
       "       [-0.46155434],\n",
       "       [ 0.27164398],\n",
       "       [ 0.44238266],\n",
       "       [ 2.44672316],\n",
       "       [-0.89221274],\n",
       "       [ 0.7348192 ],\n",
       "       [ 0.48158093],\n",
       "       [-2.35067053],\n",
       "       [ 0.82378535],\n",
       "       [-0.20820854],\n",
       "       [ 0.01159342],\n",
       "       [ 0.02531385],\n",
       "       [ 1.02051722],\n",
       "       [-0.68704554],\n",
       "       [-0.79376453],\n",
       "       [-0.47448731],\n",
       "       [ 0.25655171],\n",
       "       [ 0.2611475 ],\n",
       "       [ 1.84681143],\n",
       "       [ 0.97647625],\n",
       "       [-0.25964686],\n",
       "       [-1.10212015],\n",
       "       [ 0.90371974],\n",
       "       [-0.98637498],\n",
       "       [-0.77039262],\n",
       "       [-1.29753667],\n",
       "       [ 0.12611457],\n",
       "       [ 0.34733035],\n",
       "       [ 0.53639419],\n",
       "       [-0.7195502 ],\n",
       "       [ 0.65692991],\n",
       "       [ 0.28931334],\n",
       "       [ 0.11272684],\n",
       "       [-0.34328055],\n",
       "       [-0.26842643],\n",
       "       [-1.21099731],\n",
       "       [ 1.83911446],\n",
       "       [-0.87030927],\n",
       "       [ 0.00646009],\n",
       "       [-2.34107827],\n",
       "       [ 0.86805837],\n",
       "       [-0.11931995],\n",
       "       [-0.59746102],\n",
       "       [ 1.28999411],\n",
       "       [-0.44360777],\n",
       "       [-1.33090245]])"
      ]
     },
     "execution_count": 3,
     "metadata": {},
     "output_type": "execute_result"
    }
   ],
   "source": [
    "X = np.random.randn(100,1)\n",
    "X"
   ]
  },
  {
   "cell_type": "code",
   "execution_count": 4,
   "id": "6a3b29e9",
   "metadata": {},
   "outputs": [],
   "source": [
    "X2 = 2 * np.random.rand(100, 1)\n",
    "\n"
   ]
  },
  {
   "cell_type": "code",
   "execution_count": 5,
   "id": "ccc5826c",
   "metadata": {},
   "outputs": [
    {
     "data": {
      "text/plain": [
       "array([[ 0.98657564],\n",
       "       [ 4.03278537],\n",
       "       [-1.75498977],\n",
       "       [-1.82097414],\n",
       "       [-5.1757526 ],\n",
       "       [-7.50856572],\n",
       "       [-9.14786098],\n",
       "       [-5.99617117],\n",
       "       [-5.95953006],\n",
       "       [-1.63240229],\n",
       "       [-7.48002779],\n",
       "       [ 0.76583408],\n",
       "       [-1.45273937],\n",
       "       [ 5.51307664],\n",
       "       [ 0.2262206 ],\n",
       "       [ 1.78557858],\n",
       "       [-1.50991825],\n",
       "       [-5.13885639],\n",
       "       [-5.73784556],\n",
       "       [-0.99501814],\n",
       "       [ 4.01385186],\n",
       "       [-3.7038261 ],\n",
       "       [-1.9562411 ],\n",
       "       [ 2.42832809],\n",
       "       [ 2.18215483],\n",
       "       [-0.55779545],\n",
       "       [-1.86839987],\n",
       "       [ 0.90064465],\n",
       "       [-0.44556359],\n",
       "       [ 4.86232512],\n",
       "       [-1.24315755],\n",
       "       [-2.35162104],\n",
       "       [ 5.86564591],\n",
       "       [ 0.27352845],\n",
       "       [-1.32658828],\n",
       "       [-5.35841664],\n",
       "       [ 1.79097347],\n",
       "       [-1.69749414],\n",
       "       [ 5.24315809],\n",
       "       [-5.14603729],\n",
       "       [ 1.68281702],\n",
       "       [-2.5935927 ],\n",
       "       [ 3.45841377],\n",
       "       [-1.63242111],\n",
       "       [ 4.40822188],\n",
       "       [-1.40226837],\n",
       "       [-6.37433596],\n",
       "       [-3.67348316],\n",
       "       [-7.17463334],\n",
       "       [ 9.81866239],\n",
       "       [ 0.95183724],\n",
       "       [-3.35598512],\n",
       "       [-0.80246854],\n",
       "       [ 2.48008343],\n",
       "       [ 1.27837952],\n",
       "       [-5.41024437],\n",
       "       [ 3.41090286],\n",
       "       [ 3.31554158],\n",
       "       [ 4.5421818 ],\n",
       "       [ 4.70113384],\n",
       "       [-1.68553754],\n",
       "       [-3.67384032],\n",
       "       [-2.49076126],\n",
       "       [-0.92035151],\n",
       "       [-1.43299499],\n",
       "       [-1.30229935],\n",
       "       [ 8.47514658],\n",
       "       [-5.18834334],\n",
       "       [ 4.95017201],\n",
       "       [-7.64998149],\n",
       "       [-3.93659545],\n",
       "       [ 3.55576992],\n",
       "       [-4.08895349],\n",
       "       [ 2.65018763],\n",
       "       [-3.62179056],\n",
       "       [-0.88131752],\n",
       "       [ 4.94711416],\n",
       "       [-1.26517912],\n",
       "       [-2.22535205],\n",
       "       [-6.0009047 ],\n",
       "       [ 1.98633842],\n",
       "       [ 0.04151308],\n",
       "       [ 5.2354787 ],\n",
       "       [ 6.99900517],\n",
       "       [ 2.56827488],\n",
       "       [ 1.22934164],\n",
       "       [ 1.65757506],\n",
       "       [ 3.26074035],\n",
       "       [ 4.20146676],\n",
       "       [ 4.51632312],\n",
       "       [-0.82854558],\n",
       "       [-8.25959232],\n",
       "       [ 1.73558874],\n",
       "       [ 0.73608027],\n",
       "       [-2.24553559],\n",
       "       [ 1.55230318],\n",
       "       [-2.52863233],\n",
       "       [-4.41472371],\n",
       "       [ 2.07755405],\n",
       "       [-2.54704926]])"
      ]
     },
     "execution_count": 5,
     "metadata": {},
     "output_type": "execute_result"
    }
   ],
   "source": [
    "X3 = 4*np.random.randn(100,1)\n",
    "X3"
   ]
  },
  {
   "cell_type": "code",
   "execution_count": 6,
   "id": "383f4760",
   "metadata": {},
   "outputs": [],
   "source": [
    "y = 4 + 3 * X + np.random.randn(100, 1)"
   ]
  },
  {
   "cell_type": "code",
   "execution_count": 22,
   "id": "5949a021",
   "metadata": {},
   "outputs": [
    {
     "name": "stdout",
     "output_type": "stream",
     "text": [
      "(100, 2) (100, 1)\n"
     ]
    }
   ],
   "source": [
    "X1 = X+X2+X3\n",
    "B =np.c_[np.ones((100,1)),X1]\n",
    "print(B.shape, y.shape)"
   ]
  },
  {
   "cell_type": "code",
   "execution_count": 25,
   "id": "5d776ebd",
   "metadata": {},
   "outputs": [
    {
     "name": "stdout",
     "output_type": "stream",
     "text": [
      "[-1.71352865]\n",
      "[-0.51016494]\n",
      "[1.89401036]\n"
     ]
    }
   ],
   "source": [
    "for i in range(3):\n",
    "    theta[i] = np.random.randn(1)\n",
    "    print(theta[i])"
   ]
  },
  {
   "cell_type": "code",
   "execution_count": 27,
   "id": "96fa5c4e",
   "metadata": {},
   "outputs": [
    {
     "ename": "ValueError",
     "evalue": "shapes (100,2) and (1,) not aligned: 2 (dim 1) != 1 (dim 0)",
     "output_type": "error",
     "traceback": [
      "\u001b[1;31m---------------------------------------------------------------------------\u001b[0m",
      "\u001b[1;31mValueError\u001b[0m                                Traceback (most recent call last)",
      "\u001b[1;32m~\\AppData\\Local\\Temp\\ipykernel_8688\\2396244802.py\u001b[0m in \u001b[0;36m<module>\u001b[1;34m\u001b[0m\n\u001b[0;32m      2\u001b[0m \u001b[0mn\u001b[0m \u001b[1;33m=\u001b[0m \u001b[1;36m0.1\u001b[0m \u001b[1;31m# learning rate\u001b[0m\u001b[1;33m\u001b[0m\u001b[1;33m\u001b[0m\u001b[0m\n\u001b[0;32m      3\u001b[0m \u001b[1;32mfor\u001b[0m \u001b[0mi\u001b[0m \u001b[1;32min\u001b[0m \u001b[0mrange\u001b[0m\u001b[1;33m(\u001b[0m\u001b[1;36m100\u001b[0m\u001b[1;33m)\u001b[0m\u001b[1;33m:\u001b[0m\u001b[1;33m\u001b[0m\u001b[1;33m\u001b[0m\u001b[0m\n\u001b[1;32m----> 4\u001b[1;33m     \u001b[0mgrad\u001b[0m \u001b[1;33m=\u001b[0m \u001b[1;36m2\u001b[0m\u001b[1;33m/\u001b[0m\u001b[0mm\u001b[0m\u001b[1;33m*\u001b[0m\u001b[0mB\u001b[0m\u001b[1;33m.\u001b[0m\u001b[0mT\u001b[0m\u001b[1;33m.\u001b[0m\u001b[0mdot\u001b[0m\u001b[1;33m(\u001b[0m\u001b[0mB\u001b[0m\u001b[1;33m.\u001b[0m\u001b[0mdot\u001b[0m\u001b[1;33m(\u001b[0m\u001b[0mtheta\u001b[0m\u001b[1;33m[\u001b[0m\u001b[0mi\u001b[0m\u001b[1;33m]\u001b[0m\u001b[1;33m)\u001b[0m\u001b[1;33m-\u001b[0m\u001b[0my\u001b[0m\u001b[1;33m)\u001b[0m\u001b[1;33m\u001b[0m\u001b[1;33m\u001b[0m\u001b[0m\n\u001b[0m\u001b[0;32m      5\u001b[0m     \u001b[0mtheta\u001b[0m\u001b[1;33m[\u001b[0m\u001b[0mi\u001b[0m\u001b[1;33m]\u001b[0m \u001b[1;33m=\u001b[0m \u001b[0mtheta\u001b[0m\u001b[1;33m[\u001b[0m\u001b[0mi\u001b[0m\u001b[1;33m]\u001b[0m \u001b[1;33m-\u001b[0m \u001b[0mn\u001b[0m\u001b[1;33m*\u001b[0m\u001b[0mgrad\u001b[0m\u001b[1;33m\u001b[0m\u001b[1;33m\u001b[0m\u001b[0m\n\u001b[0;32m      6\u001b[0m     \u001b[0mprint\u001b[0m\u001b[1;33m(\u001b[0m\u001b[0mtheta\u001b[0m\u001b[1;33m)\u001b[0m\u001b[1;33m\u001b[0m\u001b[1;33m\u001b[0m\u001b[0m\n",
      "\u001b[1;31mValueError\u001b[0m: shapes (100,2) and (1,) not aligned: 2 (dim 1) != 1 (dim 0)"
     ]
    }
   ],
   "source": [
    "m =100\n",
    "n = 0.1 # learning rate\n",
    "for i in range(100):\n",
    "    grad = 2/m*B.T.dot(B.dot(theta[i])-y)\n",
    "    theta = theta - n*grad\n",
    "    print(theta)\n"
   ]
  },
  {
   "cell_type": "code",
   "execution_count": 14,
   "id": "cf20953f",
   "metadata": {},
   "outputs": [],
   "source": [
    "intercept,slope =theta"
   ]
  },
  {
   "cell_type": "code",
   "execution_count": 15,
   "id": "a20f3062",
   "metadata": {},
   "outputs": [
    {
     "data": {
      "text/plain": [
       "array([6.79025108e+39])"
      ]
     },
     "execution_count": 15,
     "metadata": {},
     "output_type": "execute_result"
    }
   ],
   "source": [
    "intercept"
   ]
  },
  {
   "cell_type": "code",
   "execution_count": 16,
   "id": "d5c2c113",
   "metadata": {},
   "outputs": [
    {
     "data": {
      "text/plain": [
       "array([1.86119248e+41])"
      ]
     },
     "execution_count": 16,
     "metadata": {},
     "output_type": "execute_result"
    }
   ],
   "source": [
    "slope"
   ]
  },
  {
   "cell_type": "code",
   "execution_count": 17,
   "id": "e68215fb",
   "metadata": {},
   "outputs": [
    {
     "name": "stdout",
     "output_type": "stream",
     "text": [
      "[1.4348277e+41]\n",
      "[-7.36768753e+40]\n",
      "[-8.91244627e+40]\n",
      "[1.50012968e+41]\n",
      "[9.25021836e+40]\n",
      "[8.92811819e+40]\n",
      "[-2.85995742e+41]\n",
      "[-2.00272502e+41]\n",
      "[2.71370337e+41]\n",
      "[1.49258748e+41]\n",
      "[5.16315821e+40]\n",
      "[2.95901236e+41]\n",
      "[-2.87199013e+41]\n",
      "[-1.88726539e+41]\n",
      "[-1.54593629e+41]\n",
      "[-6.92390193e+40]\n",
      "[3.47329682e+40]\n",
      "[-1.8465747e+40]\n",
      "[1.37380023e+41]\n",
      "[-1.37307295e+41]\n",
      "[-1.53254832e+41]\n",
      "[-5.261039e+40]\n",
      "[9.55858265e+40]\n",
      "[-9.44774466e+40]\n",
      "[7.61212484e+40]\n",
      "[3.89519703e+41]\n",
      "[-1.7801701e+41]\n",
      "[-4.32827453e+40]\n",
      "[-6.77387724e+40]\n",
      "[-1.79921136e+41]\n",
      "[6.96115601e+40]\n",
      "[-2.04393686e+41]\n",
      "[-3.81925228e+40]\n",
      "[1.81528135e+41]\n",
      "[1.32195179e+41]\n",
      "[-1.5577275e+40]\n",
      "[1.42559967e+41]\n",
      "[3.34780082e+41]\n",
      "[-6.13814433e+41]\n",
      "[-2.32216847e+41]\n",
      "[1.22278594e+41]\n",
      "[-5.00362389e+40]\n",
      "[9.32888572e+40]\n",
      "[1.80625159e+41]\n",
      "[4.09913816e+40]\n",
      "[-6.0726639e+40]\n",
      "[7.7755866e+40]\n",
      "[-3.21954838e+40]\n",
      "[1.16983314e+41]\n",
      "[-2.99889473e+41]\n",
      "[2.25644258e+41]\n",
      "[2.01329683e+41]\n",
      "[1.42955268e+41]\n",
      "[-1.48709752e+41]\n",
      "[-7.91138965e+40]\n",
      "[5.73484251e+40]\n",
      "[8.91261786e+40]\n",
      "[4.62172527e+41]\n",
      "[-1.59267713e+41]\n",
      "[1.43554249e+41]\n",
      "[9.64217311e+40]\n",
      "[-4.30714781e+41]\n",
      "[1.60112561e+41]\n",
      "[-3.1961366e+40]\n",
      "[8.94800887e+39]\n",
      "[1.15016459e+40]\n",
      "[1.96728149e+41]\n",
      "[-1.21082148e+41]\n",
      "[-1.40944607e+41]\n",
      "[-8.15209707e+40]\n",
      "[5.45394621e+40]\n",
      "[5.53948276e+40]\n",
      "[3.50517406e+41]\n",
      "[1.88531277e+41]\n",
      "[-4.15350274e+40]\n",
      "[-1.98335524e+41]\n",
      "[1.7498989e+41]\n",
      "[-1.76793118e+41]\n",
      "[-1.36594644e+41]\n",
      "[-2.34706299e+41]\n",
      "[3.02626001e+40]\n",
      "[7.14351148e+40]\n",
      "[1.06623535e+41]\n",
      "[-1.27131892e+41]\n",
      "[1.29057553e+41]\n",
      "[6.06370329e+40]\n",
      "[2.77708863e+40]\n",
      "[-5.71008668e+40]\n",
      "[-4.31690737e+40]\n",
      "[-2.18599659e+41]\n",
      "[3.49084852e+41]\n",
      "[-1.55191056e+41]\n",
      "[7.99259871e+39]\n",
      "[-4.28929478e+41]\n",
      "[1.68352622e+41]\n",
      "[-1.54174885e+40]\n",
      "[-1.04408744e+41]\n",
      "[2.46882985e+41]\n",
      "[-7.57736937e+40]\n",
      "[-2.40916313e+41]\n"
     ]
    }
   ],
   "source": [
    "for i in range(len(X)):\n",
    "    yp = slope*X[i] + intercept\n",
    "    print(yp)"
   ]
  },
  {
   "cell_type": "code",
   "execution_count": 18,
   "id": "338e2e64",
   "metadata": {},
   "outputs": [
    {
     "data": {
      "image/png": "[encoded data removed]",
      "text/plain": [
       "<Figure size 640x480 with 1 Axes>"
      ]
     },
     "metadata": {},
     "output_type": "display_data"
    }
   ],
   "source": [
    "yp = slope*X + intercept\n",
    "plt.plot(X,yp)\n",
    "plt.scatter(X,y)\n",
    "plt.show()"
   ]
  },
  {
   "cell_type": "code",
   "execution_count": null,
   "id": "120c5186",
   "metadata": {},
   "outputs": [],
   "source": []
  }
 ],
 "metadata": {
  "kernelspec": {
   "display_name": "Python 3 (ipykernel)",
   "language": "python",
   "name": "python3"
  },
  "language_info": {
   "codemirror_mode": {
    "name": "ipython",
    "version": 3
   },
   "file_extension": ".py",
   "mimetype": "text/x-python",
   "name": "python",
   "nbconvert_exporter": "python",
   "pygments_lexer": "ipython3",
   "version": "3.9.13"
  }
 },
 "nbformat": 4,
 "nbformat_minor": 5
}
