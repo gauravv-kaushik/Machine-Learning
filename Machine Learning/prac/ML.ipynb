{
 "cells": [
  {
   "cell_type": "markdown",
   "id": "ecb0a1b4",
   "metadata": {},
   "source": [
    "# QUESTION 1"
   ]
  },
  {
   "cell_type": "code",
   "execution_count": 1,
   "id": "88fbacc7",
   "metadata": {},
   "outputs": [],
   "source": [
    "import numpy as np"
   ]
  },
  {
   "cell_type": "code",
   "execution_count": 3,
   "id": "4ff74d97",
   "metadata": {},
   "outputs": [
    {
     "name": "stdout",
     "output_type": "stream",
     "text": [
      "Enter no. 1->2\n",
      "Enter no. 2->3\n",
      "Sum-> 5\n",
      "multiplication-> 6\n",
      "division 0.6666666666666666\n",
      "exponential-> 7.38905609893065\n"
     ]
    }
   ],
   "source": [
    "a=int(input(\"Enter no. 1->\"))\n",
    "b= int(input(\"Enter no. 2->\"))\n",
    "print(\"Sum->\",a+b)\n",
    "print(\"multiplication->\",a*b)\n",
    "print(\"division\",a/b)\n",
    "print(\"exponential->\",np.exp(a))"
   ]
  },
  {
   "cell_type": "markdown",
   "id": "3f25a0ec",
   "metadata": {},
   "source": [
    "# QUESTION 2"
   ]
  },
  {
   "cell_type": "code",
   "execution_count": 32,
   "id": "848be314",
   "metadata": {},
   "outputs": [
    {
     "name": "stdout",
     "output_type": "stream",
     "text": [
      "Enter 0 or 1->0\n",
      "Enter 0 or 1->1\n",
      "0\n",
      "1\n",
      "AND-> 0\n",
      "OR-> 1\n",
      "EQUALITY-> False\n",
      "NOT-> True\n",
      "XOR-> 1\n"
     ]
    }
   ],
   "source": [
    "a=int(input(\"Enter 0 or 1->\"))\n",
    "b=int(input(\"Enter 0 or 1->\"))\n",
    "print(a)\n",
    "print(b)\n",
    "print(\"AND->\",(a&b))\n",
    "print(\"OR->\",(a|b))\n",
    "print(\"EQUALITY->\",(a==b))\n",
    "print(\"NOT->\",(not(a)))\n",
    "print(\"XOR->\",(a^b))"
   ]
  },
  {
   "cell_type": "code",
   "execution_count": null,
   "id": "63af8416",
   "metadata": {},
   "outputs": [],
   "source": []
  },
  {
   "cell_type": "markdown",
   "id": "e8173977",
   "metadata": {},
   "source": [
    "# QUESTION 3"
   ]
  },
  {
   "cell_type": "code",
   "execution_count": 20,
   "id": "be5e97c0",
   "metadata": {},
   "outputs": [
    {
     "name": "stdout",
     "output_type": "stream",
     "text": [
      "Enter a no. in simple variable->2\n",
      "Enter a simple string->Simran is greatest\n",
      "My name is Vishav and my salary is 0.00\n",
      "My name is Simran and my salary is 1000000000000000.00\n"
     ]
    }
   ],
   "source": [
    "s= int(input(\"Enter a no. in simple variable->\"))\n",
    "str1= input(\"Enter a simple string->\")\n",
    "str2=\"My name is {fname} and my salary is {price:.2f}\"\n",
    "print(str2.format(fname=\"Vishav\",price=0))\n",
    "print(str2.format(fname=\"Simran\",price=1000000000000000))"
   ]
  },
  {
   "cell_type": "markdown",
   "id": "e6a881c5",
   "metadata": {},
   "source": [
    "# QUESTION 4"
   ]
  },
  {
   "cell_type": "code",
   "execution_count": 30,
   "id": "3ef346fd",
   "metadata": {},
   "outputs": [
    {
     "name": "stdout",
     "output_type": "stream",
     "text": [
      "SINGLE DIMENSIONAL\n",
      "array of all zeros-> [0. 0. 0. 0. 0. 0. 0. 0. 0. 0.]\n",
      "ARRAY OF ALL ones-> [1. 1. 1. 1. 1. 1. 1. 1. 1. 1.]\n",
      "array of random integers [8 6 5 6 9 5 5 7 6]\n",
      "MULTI DIMENSIONAL\n",
      "array of all zeros-> [[0. 0. 0. 0. 0.]\n",
      " [0. 0. 0. 0. 0.]]\n",
      "ARRAY OF ALL ones-> [[1. 1. 1. 1. 1.]\n",
      " [1. 1. 1. 1. 1.]]\n",
      "array of random integers [[8 6 5]\n",
      " [6 9 5]\n",
      " [5 7 6]]\n",
      "diagonal array-> [[0 0 0]\n",
      " [0 1 0]\n",
      " [0 0 2]]\n"
     ]
    }
   ],
   "source": [
    "import numpy as np\n",
    "arr_zeros=np.zeros(10)\n",
    "arr_ones=np.ones(10)\n",
    "arr_oned=np.random.randint(5,10,9)\n",
    "arr=np.arange(3)\n",
    "arr_diag=np.diag(arr)\n",
    "print(\"SINGLE DIMENSIONAL\")\n",
    "print(\"array of all zeros->\",arr_zeros)\n",
    "print(\"ARRAY OF ALL ones->\",arr_ones)\n",
    "print(\"array of random integers\",arr_oned)\n",
    "print(\"MULTI DIMENSIONAL\")\n",
    "print(\"array of all zeros->\",arr_zeros.reshape(2,5))\n",
    "print(\"ARRAY OF ALL ones->\",arr_ones.reshape(2,5))\n",
    "print(\"array of random integers\",arr_oned.reshape(3,3))\n",
    "print(\"diagonal array->\",arr_diag)"
   ]
  },
  {
   "cell_type": "markdown",
   "id": "0a4a518e",
   "metadata": {},
   "source": [
    "# QUESTION 5"
   ]
  },
  {
   "cell_type": "code",
   "execution_count": 99,
   "id": "ca1e7620",
   "metadata": {},
   "outputs": [],
   "source": [
    "import pandas as pd\n",
    "data= pd.read_table(r\"STUDENTMARKS.txt\")"
   ]
  },
  {
   "cell_type": "code",
   "execution_count": 100,
   "id": "605cd750",
   "metadata": {},
   "outputs": [
    {
     "data": {
      "text/html": [
       "<div>\n",
       "<style scoped>\n",
       "    .dataframe tbody tr th:only-of-type {\n",
       "        vertical-align: middle;\n",
       "    }\n",
       "\n",
       "    .dataframe tbody tr th {\n",
       "        vertical-align: top;\n",
       "    }\n",
       "\n",
       "    .dataframe thead th {\n",
       "        text-align: right;\n",
       "    }\n",
       "</style>\n",
       "<table border=\"1\" class=\"dataframe\">\n",
       "  <thead>\n",
       "    <tr style=\"text-align: right;\">\n",
       "      <th></th>\n",
       "      <th>STUDENT_ID</th>\n",
       "      <th>STUDENT_NAME</th>\n",
       "      <th>MARKS</th>\n",
       "    </tr>\n",
       "  </thead>\n",
       "  <tbody>\n",
       "    <tr>\n",
       "      <th>0</th>\n",
       "      <td>101</td>\n",
       "      <td>SIMRAN</td>\n",
       "      <td>100</td>\n",
       "    </tr>\n",
       "    <tr>\n",
       "      <th>1</th>\n",
       "      <td>420</td>\n",
       "      <td>VISHAV</td>\n",
       "      <td>0</td>\n",
       "    </tr>\n",
       "    <tr>\n",
       "      <th>2</th>\n",
       "      <td>103</td>\n",
       "      <td>NANDINI</td>\n",
       "      <td>70</td>\n",
       "    </tr>\n",
       "  </tbody>\n",
       "</table>\n",
       "</div>"
      ],
      "text/plain": [
       "   STUDENT_ID STUDENT_NAME  MARKS\n",
       "0         101       SIMRAN    100\n",
       "1         420       VISHAV      0\n",
       "2         103      NANDINI     70"
      ]
     },
     "execution_count": 100,
     "metadata": {},
     "output_type": "execute_result"
    }
   ],
   "source": [
    "data"
   ]
  },
  {
   "cell_type": "code",
   "execution_count": 101,
   "id": "b5fda68a",
   "metadata": {},
   "outputs": [
    {
     "data": {
      "text/plain": [
       "9"
      ]
     },
     "execution_count": 101,
     "metadata": {},
     "output_type": "execute_result"
    }
   ],
   "source": [
    "data.size"
   ]
  },
  {
   "cell_type": "code",
   "execution_count": 102,
   "id": "3c41b6aa",
   "metadata": {},
   "outputs": [],
   "source": [
    "m=len(data.STUDENT_ID)"
   ]
  },
  {
   "cell_type": "code",
   "execution_count": 103,
   "id": "a1ea2c76",
   "metadata": {},
   "outputs": [
    {
     "data": {
      "text/html": [
       "<div>\n",
       "<style scoped>\n",
       "    .dataframe tbody tr th:only-of-type {\n",
       "        vertical-align: middle;\n",
       "    }\n",
       "\n",
       "    .dataframe tbody tr th {\n",
       "        vertical-align: top;\n",
       "    }\n",
       "\n",
       "    .dataframe thead th {\n",
       "        text-align: right;\n",
       "    }\n",
       "</style>\n",
       "<table border=\"1\" class=\"dataframe\">\n",
       "  <thead>\n",
       "    <tr style=\"text-align: right;\">\n",
       "      <th></th>\n",
       "      <th>STUDENT_ID</th>\n",
       "      <th>MARKS</th>\n",
       "    </tr>\n",
       "  </thead>\n",
       "  <tbody>\n",
       "    <tr>\n",
       "      <th>count</th>\n",
       "      <td>3.000000</td>\n",
       "      <td>3.000000</td>\n",
       "    </tr>\n",
       "    <tr>\n",
       "      <th>mean</th>\n",
       "      <td>208.000000</td>\n",
       "      <td>56.666667</td>\n",
       "    </tr>\n",
       "    <tr>\n",
       "      <th>std</th>\n",
       "      <td>183.600109</td>\n",
       "      <td>51.316014</td>\n",
       "    </tr>\n",
       "    <tr>\n",
       "      <th>min</th>\n",
       "      <td>101.000000</td>\n",
       "      <td>0.000000</td>\n",
       "    </tr>\n",
       "    <tr>\n",
       "      <th>25%</th>\n",
       "      <td>102.000000</td>\n",
       "      <td>35.000000</td>\n",
       "    </tr>\n",
       "    <tr>\n",
       "      <th>50%</th>\n",
       "      <td>103.000000</td>\n",
       "      <td>70.000000</td>\n",
       "    </tr>\n",
       "    <tr>\n",
       "      <th>75%</th>\n",
       "      <td>261.500000</td>\n",
       "      <td>85.000000</td>\n",
       "    </tr>\n",
       "    <tr>\n",
       "      <th>max</th>\n",
       "      <td>420.000000</td>\n",
       "      <td>100.000000</td>\n",
       "    </tr>\n",
       "  </tbody>\n",
       "</table>\n",
       "</div>"
      ],
      "text/plain": [
       "       STUDENT_ID       MARKS\n",
       "count    3.000000    3.000000\n",
       "mean   208.000000   56.666667\n",
       "std    183.600109   51.316014\n",
       "min    101.000000    0.000000\n",
       "25%    102.000000   35.000000\n",
       "50%    103.000000   70.000000\n",
       "75%    261.500000   85.000000\n",
       "max    420.000000  100.000000"
      ]
     },
     "execution_count": 103,
     "metadata": {},
     "output_type": "execute_result"
    }
   ],
   "source": [
    "data.describe()"
   ]
  },
  {
   "cell_type": "code",
   "execution_count": 104,
   "id": "4c143da4",
   "metadata": {},
   "outputs": [
    {
     "name": "stdout",
     "output_type": "stream",
     "text": [
      "<class 'pandas.core.frame.DataFrame'>\n",
      "RangeIndex: 3 entries, 0 to 2\n",
      "Data columns (total 3 columns):\n",
      " #   Column        Non-Null Count  Dtype \n",
      "---  ------        --------------  ----- \n",
      " 0   STUDENT_ID    3 non-null      int64 \n",
      " 1   STUDENT_NAME  3 non-null      object\n",
      " 2   MARKS         3 non-null      int64 \n",
      "dtypes: int64(2), object(1)\n",
      "memory usage: 200.0+ bytes\n"
     ]
    }
   ],
   "source": [
    "data.info()"
   ]
  },
  {
   "cell_type": "code",
   "execution_count": 105,
   "id": "1cf6ab22",
   "metadata": {},
   "outputs": [],
   "source": [
    "file_new= open(\"my_newfile.txt\",\"w\")"
   ]
  },
  {
   "cell_type": "code",
   "execution_count": 106,
   "id": "769d5722",
   "metadata": {},
   "outputs": [
    {
     "data": {
      "text/plain": [
       "['   STUDENT_ID STUDENT_NAME  MARKS\\n0         101       SIMRAN    100\\n1         420       VISHAV      0\\n2         103      NANDINI     70']"
      ]
     },
     "execution_count": 106,
     "metadata": {},
     "output_type": "execute_result"
    }
   ],
   "source": [
    "l=[]\n",
    "l.append(str(data.iloc[:,:]))\n",
    "l\n"
   ]
  },
  {
   "cell_type": "code",
   "execution_count": 107,
   "id": "15ab20fa",
   "metadata": {},
   "outputs": [],
   "source": [
    "file_new.writelines(l)\n",
    "file_new.close()"
   ]
  },
  {
   "cell_type": "markdown",
   "id": "101e534d",
   "metadata": {},
   "source": [
    "# QUESTION 3"
   ]
  },
  {
   "cell_type": "code",
   "execution_count": 116,
   "id": "e687e8db",
   "metadata": {},
   "outputs": [
    {
     "data": {
      "text/plain": [
       "array([[0, 1, 2],\n",
       "       [3, 4, 5],\n",
       "       [6, 7, 8]])"
      ]
     },
     "execution_count": 116,
     "metadata": {},
     "output_type": "execute_result"
    }
   ],
   "source": [
    "a= np.arange(9).reshape(3,3)\n",
    "b=np.random.randint(5,15,9).reshape(3,3)\n",
    "a"
   ]
  },
  {
   "cell_type": "code",
   "execution_count": 117,
   "id": "9133bc2f",
   "metadata": {},
   "outputs": [
    {
     "data": {
      "text/plain": [
       "array([[14, 14, 13],\n",
       "       [ 6,  6,  5],\n",
       "       [ 5, 14, 12]])"
      ]
     },
     "execution_count": 117,
     "metadata": {},
     "output_type": "execute_result"
    }
   ],
   "source": [
    "b"
   ]
  },
  {
   "cell_type": "code",
   "execution_count": 118,
   "id": "0ef8c10c",
   "metadata": {},
   "outputs": [],
   "source": [
    "c=np.add(a,b)"
   ]
  },
  {
   "cell_type": "code",
   "execution_count": 119,
   "id": "77265f2f",
   "metadata": {},
   "outputs": [
    {
     "name": "stdout",
     "output_type": "stream",
     "text": [
      "ADD-> [[14 15 15]\n",
      " [ 9 10 10]\n",
      " [11 21 20]]\n",
      "SUBTRACTION-> [[14 13 11]\n",
      " [ 3  2  0]\n",
      " [-1  7  4]]\n",
      "MULTIPLY-> [[ 16  34  29]\n",
      " [ 91 136 119]\n",
      " [166 238 209]]\n"
     ]
    }
   ],
   "source": [
    "print(\"ADD->\",c)\n",
    "print(\"SUBTRACTION->\",np.subtract(b,a))\n",
    "print(\"MULTIPLY->\",np.dot(a,b))"
   ]
  },
  {
   "cell_type": "code",
   "execution_count": 122,
   "id": "0f2a899e",
   "metadata": {},
   "outputs": [
    {
     "name": "stdout",
     "output_type": "stream",
     "text": [
      "first row-> [0 1 2]\n"
     ]
    }
   ],
   "source": [
    "print(\"first row->\",a[0])"
   ]
  },
  {
   "cell_type": "code",
   "execution_count": 124,
   "id": "7eb7f257",
   "metadata": {},
   "outputs": [
    {
     "name": "stdout",
     "output_type": "stream",
     "text": [
      "first column [0 3 6]\n"
     ]
    }
   ],
   "source": [
    "print(\"first column\",a[:,0])"
   ]
  },
  {
   "cell_type": "markdown",
   "id": "caf43fdf",
   "metadata": {},
   "source": [
    "# QUESTION 7 "
   ]
  },
  {
   "cell_type": "code",
   "execution_count": 78,
   "id": "f7188113",
   "metadata": {},
   "outputs": [
    {
     "data": {
      "text/plain": [
       "array([[ 0.59143772, -1.75443207,  0.33440549],\n",
       "       [ 0.58109185,  2.36564674, -0.56567706]])"
      ]
     },
     "execution_count": 78,
     "metadata": {},
     "output_type": "execute_result"
    }
   ],
   "source": [
    "import numpy as np\n",
    "a= np.arange(9).reshape(3,3)\n",
    "b=np.random.randint(5,15,9).reshape(3,3)\n",
    "c= np.random.randn(6).reshape(2,3)\n",
    "c"
   ]
  },
  {
   "cell_type": "code",
   "execution_count": 79,
   "id": "e0828a6b",
   "metadata": {},
   "outputs": [
    {
     "name": "stdout",
     "output_type": "stream",
     "text": [
      "Absolute-> [[0.59143772 1.75443207 0.33440549]\n",
      " [0.58109185 2.36564674 0.56567706]]\n"
     ]
    }
   ],
   "source": [
    "print(\"Absolute->\",np.abs(c))"
   ]
  },
  {
   "cell_type": "code",
   "execution_count": 80,
   "id": "6b95b259",
   "metadata": {},
   "outputs": [
    {
     "name": "stdout",
     "output_type": "stream",
     "text": [
      "Negative-> [[-0.59143772  1.75443207 -0.33440549]\n",
      " [-0.58109185 -2.36564674  0.56567706]]\n"
     ]
    }
   ],
   "source": [
    "print(\"Negative->\",np.negative(c))"
   ]
  },
  {
   "cell_type": "code",
   "execution_count": 89,
   "id": "d2e26e55",
   "metadata": {},
   "outputs": [
    {
     "name": "stdout",
     "output_type": "stream",
     "text": [
      "[ 0  1  2  3  4  5  6  7  8 14 12 13 13  9  5 14 14 13]\n"
     ]
    }
   ],
   "source": [
    "e=np.append(a,b)\n",
    "print(e)"
   ]
  },
  {
   "cell_type": "code",
   "execution_count": 90,
   "id": "8b045e86",
   "metadata": {},
   "outputs": [
    {
     "name": "stdout",
     "output_type": "stream",
     "text": [
      "deleteing from matrix-> [[1 2]\n",
      " [4 5]\n",
      " [7 8]]\n"
     ]
    }
   ],
   "source": [
    "m=np.delete(a,[0],axis=1)\n",
    "print(\"deleteing from matrix->\",m)"
   ]
  },
  {
   "cell_type": "code",
   "execution_count": 65,
   "id": "ecde685a",
   "metadata": {},
   "outputs": [
    {
     "name": "stdout",
     "output_type": "stream",
     "text": [
      "max of first row [2 5 8]\n"
     ]
    }
   ],
   "source": [
    "print(\"max of each row\",a.max(axis=1))"
   ]
  },
  {
   "cell_type": "code",
   "execution_count": 67,
   "id": "e2123f13",
   "metadata": {},
   "outputs": [
    {
     "name": "stdout",
     "output_type": "stream",
     "text": [
      "max of each column [6 7 8]\n"
     ]
    }
   ],
   "source": [
    "print(\"max of each column\",a.max(axis=0))"
   ]
  },
  {
   "cell_type": "code",
   "execution_count": 69,
   "id": "edbcbc94",
   "metadata": {},
   "outputs": [
    {
     "name": "stdout",
     "output_type": "stream",
     "text": [
      "sum of all the columns 36\n"
     ]
    }
   ],
   "source": [
    "print(\"sum of all the columns\",a.sum())"
   ]
  },
  {
   "cell_type": "code",
   "execution_count": 71,
   "id": "600110ef",
   "metadata": {},
   "outputs": [
    {
     "name": "stdout",
     "output_type": "stream",
     "text": [
      "sum of some elements 8\n"
     ]
    }
   ],
   "source": [
    "print(\"sum of some elements\",a[0:2,0:2].sum())"
   ]
  },
  {
   "cell_type": "markdown",
   "id": "102ab17e",
   "metadata": {},
   "source": [
    "# Question 8"
   ]
  },
  {
   "cell_type": "code",
   "execution_count": 12,
   "id": "a78b7057",
   "metadata": {},
   "outputs": [],
   "source": [
    "import numpy as np\n",
    "import matplotlib.pyplot as plt\n",
    "a= np.sin(np.arange(1,10))"
   ]
  },
  {
   "cell_type": "code",
   "execution_count": 13,
   "id": "fdbc24d9",
   "metadata": {},
   "outputs": [
    {
     "data": {
      "text/plain": [
       "array([ 0.84147098,  0.90929743,  0.14112001, -0.7568025 , -0.95892427,\n",
       "       -0.2794155 ,  0.6569866 ,  0.98935825,  0.41211849])"
      ]
     },
     "execution_count": 13,
     "metadata": {},
     "output_type": "execute_result"
    }
   ],
   "source": [
    "a"
   ]
  },
  {
   "cell_type": "code",
   "execution_count": 25,
   "id": "6f50b8f1",
   "metadata": {},
   "outputs": [],
   "source": [
    "b=np.cos(np.arange(1,10))\n",
    "b\n",
    "c= np.arange(1,10)"
   ]
  },
  {
   "cell_type": "code",
   "execution_count": 30,
   "id": "fc8e7cfe",
   "metadata": {},
   "outputs": [
    {
     "data": {
      "text/plain": [
       "<matplotlib.legend.Legend at 0x253c70c4400>"
      ]
     },
     "execution_count": 30,
     "metadata": {},
     "output_type": "execute_result"
    },
    {
     "data": {
      "image/png": "[encoded data removed]",
      "text/plain": [
       "<Figure size 640x480 with 1 Axes>"
      ]
     },
     "metadata": {},
     "output_type": "display_data"
    }
   ],
   "source": [
    "plt.plot(c,a)\n",
    "plt.plot(c,b)\n",
    "plt.xlabel(\"data\")\n",
    "plt.ylabel(\"sin/cos data\")\n",
    "plt.legend([\"sine value\",\"cosine vale\"])"
   ]
  },
  {
   "cell_type": "code",
   "execution_count": 36,
   "id": "7f591068",
   "metadata": {},
   "outputs": [
    {
     "data": {
      "text/plain": [
       "<matplotlib.legend.Legend at 0x253c74098e0>"
      ]
     },
     "execution_count": 36,
     "metadata": {},
     "output_type": "execute_result"
    },
    {
     "data": {
      "image/png": "[encoded data removed]",
      "text/plain": [
       "<Figure size 640x480 with 1 Axes>"
      ]
     },
     "metadata": {},
     "output_type": "display_data"
    }
   ],
   "source": [
    "plt.plot(c,a,'*g')\n",
    "plt.plot(c,b,'or')\n",
    "plt.xlabel(\"data\")\n",
    "plt.ylabel(\"sin/cos data\")\n",
    "plt.legend([\"sine value\",\"cosine vale\"])"
   ]
  },
  {
   "cell_type": "code",
   "execution_count": 22,
   "id": "55413914",
   "metadata": {},
   "outputs": [
    {
     "data": {
      "text/plain": [
       "Text(0.5, 1.0, 'Finding the sine value')"
      ]
     },
     "execution_count": 22,
     "metadata": {},
     "output_type": "execute_result"
    },
    {
     "data": {
      "image/png": "[encoded data removed]",
      "text/plain": [
       "<Figure size 640x480 with 1 Axes>"
      ]
     },
     "metadata": {},
     "output_type": "display_data"
    }
   ],
   "source": [
    "\n",
    "plt.bar(c,a)\n",
    "plt.xlabel(\"value\")\n",
    "plt.ylabel(\"sin data\")\n",
    "plt.title(\"Finding the sine value\")"
   ]
  },
  {
   "cell_type": "code",
   "execution_count": 38,
   "id": "ee7b4347",
   "metadata": {},
   "outputs": [
    {
     "data": {
      "text/plain": [
       "<matplotlib.legend.Legend at 0x253c751ef10>"
      ]
     },
     "execution_count": 38,
     "metadata": {},
     "output_type": "execute_result"
    },
    {
     "data": {
      "image/png": "[encoded data removed]",
      "text/plain": [
       "<Figure size 640x480 with 1 Axes>"
      ]
     },
     "metadata": {},
     "output_type": "display_data"
    }
   ],
   "source": [
    "plt.bar(c,b)\n",
    "plt.bar(c,a)\n",
    "plt.xlabel(\"value\")\n",
    "plt.ylabel(\"sin/cos data\")\n",
    "plt.legend([\"sine value\",\"cosine vale\"])"
   ]
  },
  {
   "cell_type": "code",
   "execution_count": 39,
   "id": "189c8be7",
   "metadata": {},
   "outputs": [
    {
     "data": {
      "text/plain": [
       "Text(0.5, 1.0, 'Finding the sine value')"
      ]
     },
     "execution_count": 39,
     "metadata": {},
     "output_type": "execute_result"
    },
    {
     "data": {
      "image/png": "[encoded data removed]",
      "text/plain": [
       "<Figure size 640x480 with 1 Axes>"
      ]
     },
     "metadata": {},
     "output_type": "display_data"
    }
   ],
   "source": [
    "\n",
    "plt.barh(c,a)\n",
    "plt.xlabel(\"sine value\")\n",
    "plt.ylabel(\"data\")\n",
    "plt.title(\"Finding the sine value\")"
   ]
  },
  {
   "cell_type": "code",
   "execution_count": 40,
   "id": "3ef24906",
   "metadata": {},
   "outputs": [
    {
     "data": {
      "text/plain": [
       "(array([1., 1., 0., 1., 0., 1., 0., 1., 1., 3.]),\n",
       " array([-0.95892427, -0.76409602, -0.56926777, -0.37443952, -0.17961127,\n",
       "         0.01521699,  0.21004524,  0.40487349,  0.59970174,  0.79452999,\n",
       "         0.98935825]),\n",
       " <BarContainer object of 10 artists>)"
      ]
     },
     "execution_count": 40,
     "metadata": {},
     "output_type": "execute_result"
    },
    {
     "data": {
      "image/png": "[encoded data removed]",
      "text/plain": [
       "<Figure size 640x480 with 1 Axes>"
      ]
     },
     "metadata": {},
     "output_type": "display_data"
    }
   ],
   "source": [
    "plt.hist(a)"
   ]
  },
  {
   "cell_type": "markdown",
   "id": "1b3f5032",
   "metadata": {},
   "source": [
    "# QUESTION 9"
   ]
  },
  {
   "cell_type": "code",
   "execution_count": 43,
   "id": "ade7fbbe",
   "metadata": {},
   "outputs": [],
   "source": [
    "a= np.arange(1,10)\n",
    "b=np.sin(a)\n",
    "c=np.cos(a)\n",
    "d=np.negative(a)\n",
    "e=np.exp(a)"
   ]
  },
  {
   "cell_type": "code",
   "execution_count": 50,
   "id": "25db0ffe",
   "metadata": {},
   "outputs": [
    {
     "data": {
      "text/plain": [
       "<matplotlib.legend.Legend at 0x253c8ec9970>"
      ]
     },
     "execution_count": 50,
     "metadata": {},
     "output_type": "execute_result"
    },
    {
     "data": {
      "image/png": "[encoded data removed]",
      "text/plain": [
       "<Figure size 640x480 with 4 Axes>"
      ]
     },
     "metadata": {},
     "output_type": "display_data"
    }
   ],
   "source": [
    "plt.subplot(1,4,1)\n",
    "plt.plot(a,b,color=\"r\")\n",
    "plt.legend([\"sine value\"])\n",
    "plt.subplot(1,4,2)\n",
    "plt.plot(a,c,color=\"hotpink\")\n",
    "plt.legend([\"cos value\"])\n",
    "plt.subplot(1,4,3)\n",
    "plt.plot(a,d,color=\"c\")\n",
    "plt.legend([\"neg value\"])\n",
    "plt.subplot(1,4,4)\n",
    "plt.plot(a,e,color=\"y\")\n",
    "plt.legend([\"exp value\"])"
   ]
  },
  {
   "cell_type": "markdown",
   "id": "3fb9f32b",
   "metadata": {},
   "source": [
    "# Question 10"
   ]
  },
  {
   "cell_type": "code",
   "execution_count": 54,
   "id": "e41ac94e",
   "metadata": {},
   "outputs": [
    {
     "name": "stdout",
     "output_type": "stream",
     "text": [
      "ENTER HOUR->20\n",
      "GOOD NIGHT\n"
     ]
    }
   ],
   "source": [
    "#CONDITIONAL STATEMENT\n",
    "a=int(input(\"ENTER HOUR->\"))\n",
    "if a>=6 and a<=12:\n",
    "    print(\"GOOD MORNING\")\n",
    "elif a>12 and a<=15:\n",
    "    print(\"GOOOD AFTERNOON\")\n",
    "elif a>15 and a<=19:\n",
    "    print(\"GOOD EVENING\")\n",
    "elif a>19 and a<=24:\n",
    "    print(\"GOOD NIGHT\")\n",
    "elif a>=1 and a<6:\n",
    "    print(\"SOTA KU NHI HAI\")\n",
    "else:\n",
    "    print(\"ULLU NA BANNNA\")"
   ]
  },
  {
   "cell_type": "code",
   "execution_count": 55,
   "id": "a659d7f5",
   "metadata": {},
   "outputs": [
    {
     "name": "stdout",
     "output_type": "stream",
     "text": [
      "hello 1\n",
      "hello 3\n",
      "hello 5\n",
      "hello 7\n",
      "hello 9\n"
     ]
    }
   ],
   "source": [
    "# FOR LOOP\n",
    "for i in range(1,10,2):\n",
    "    print(\"hello\",i)"
   ]
  },
  {
   "cell_type": "code",
   "execution_count": 58,
   "id": "f807e5dd",
   "metadata": {},
   "outputs": [
    {
     "name": "stdout",
     "output_type": "stream",
     "text": [
      "ENTER KAR->167\n",
      "REVERSE-> 761\n"
     ]
    }
   ],
   "source": [
    "#WHILE LOOP\n",
    "n= int(input(\"ENTER KAR->\"))\n",
    "d=0\n",
    "while(n>0):\n",
    "    r=int(n%10)\n",
    "    d=d*10+r\n",
    "    n=int(n/10)\n",
    "print(\"REVERSE->\",d)"
   ]
  },
  {
   "cell_type": "markdown",
   "id": "36f84a14",
   "metadata": {},
   "source": [
    "# Question 11"
   ]
  },
  {
   "cell_type": "code",
   "execution_count": null,
   "id": "393f4113",
   "metadata": {},
   "outputs": [],
   "source": [
    "a= np.arange(1,9)\n"
   ]
  }
 ],
 "metadata": {
  "kernelspec": {
   "display_name": "Python 3 (ipykernel)",
   "language": "python",
   "name": "python3"
  },
  "language_info": {
   "codemirror_mode": {
    "name": "ipython",
    "version": 3
   },
   "file_extension": ".py",
   "mimetype": "text/x-python",
   "name": "python",
   "nbconvert_exporter": "python",
   "pygments_lexer": "ipython3",
   "version": "3.9.13"
  }
 },
 "nbformat": 4,
 "nbformat_minor": 5
}
